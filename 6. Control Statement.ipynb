{
 "cells": [
  {
   "cell_type": "code",
   "execution_count": 1,
   "id": "27760e4a",
   "metadata": {},
   "outputs": [],
   "source": [
    "#Control Statement"
   ]
  },
  {
   "cell_type": "code",
   "execution_count": null,
   "id": "a7e82792",
   "metadata": {},
   "outputs": [],
   "source": [
    "#Q1.Enter the percentage and find the result\n",
    "per -- 75 > dist\n",
    "66 to 75 first\n",
    "50 -66 second\n",
    "40 - 50 third class\n",
    "below 40 fail"
   ]
  },
  {
   "cell_type": "code",
   "execution_count": 16,
   "id": "1c6e8b02",
   "metadata": {},
   "outputs": [
    {
     "name": "stdout",
     "output_type": "stream",
     "text": [
      "Enter Percentage: 99\n",
      "Distiction\n"
     ]
    }
   ],
   "source": [
    "percentage = int(input('Enter Percentage: '))\n",
    "if percentage<=100 and percentage>=75:\n",
    "    print('Distiction')\n",
    "elif percentage<75 and percentage>=66:\n",
    "    print('First Class')\n",
    "elif percentage<66 and percentage>=50:\n",
    "    print('Second Class')\n",
    "elif percentage<50 and percentage>=40:\n",
    "    print('Third Class')\n",
    "elif percentage<40 and percentage>=0:\n",
    "    print('Fail')\n",
    "else:\n",
    "    print('Enter valid percentage')"
   ]
  },
  {
   "cell_type": "code",
   "execution_count": 11,
   "id": "a550aac5",
   "metadata": {},
   "outputs": [],
   "source": [
    "#Q2. check weather number is positive or negative"
   ]
  },
  {
   "cell_type": "code",
   "execution_count": 25,
   "id": "a731906d",
   "metadata": {},
   "outputs": [
    {
     "name": "stdout",
     "output_type": "stream",
     "text": [
      "Enter a number: -76\n",
      "-76.0 is Negative Number\n"
     ]
    }
   ],
   "source": [
    "int_num = float(input('Enter a number: '))\n",
    "if int_num>=0:\n",
    "    print(f'{int_num} is Positive Number')\n",
    "else:\n",
    "    print(f'{int_num} is Negative Number')"
   ]
  },
  {
   "cell_type": "code",
   "execution_count": 26,
   "id": "94b04d6d",
   "metadata": {},
   "outputs": [],
   "source": [
    "#Q3. check number is even or odd"
   ]
  },
  {
   "cell_type": "code",
   "execution_count": 28,
   "id": "2095a2a3",
   "metadata": {},
   "outputs": [
    {
     "name": "stdout",
     "output_type": "stream",
     "text": [
      "Enter a number: 78\n",
      "78 is even number\n"
     ]
    }
   ],
   "source": [
    "num = int(input('Enter a number: '))\n",
    "if num%2 == 0:\n",
    "    print(f'{num} is even number')\n",
    "else:\n",
    "    print(f'{num} is odd number')"
   ]
  },
  {
   "cell_type": "code",
   "execution_count": 29,
   "id": "eceb68b5",
   "metadata": {},
   "outputs": [],
   "source": [
    "#Q4. check number is prime no. or not"
   ]
  },
  {
   "cell_type": "code",
   "execution_count": null,
   "id": "56d8e92b",
   "metadata": {},
   "outputs": [],
   "source": [
    "prime_num = int(input('Enter a number: '))\n",
    "if prime_num"
   ]
  }
 ],
 "metadata": {
  "kernelspec": {
   "display_name": "Python 3",
   "language": "python",
   "name": "python3"
  },
  "language_info": {
   "codemirror_mode": {
    "name": "ipython",
    "version": 3
   },
   "file_extension": ".py",
   "mimetype": "text/x-python",
   "name": "python",
   "nbconvert_exporter": "python",
   "pygments_lexer": "ipython3",
   "version": "3.8.8"
  }
 },
 "nbformat": 4,
 "nbformat_minor": 5
}
