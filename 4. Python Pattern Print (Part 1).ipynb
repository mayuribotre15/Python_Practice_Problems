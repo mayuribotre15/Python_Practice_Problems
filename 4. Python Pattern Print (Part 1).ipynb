{
 "cells": [
  {
   "cell_type": "code",
   "execution_count": 1,
   "id": "ad44cf0b",
   "metadata": {},
   "outputs": [],
   "source": [
    "#1. Printing Stars '*' in Right Angle Triangle Shape"
   ]
  },
  {
   "cell_type": "code",
   "execution_count": null,
   "id": "d7e2f848",
   "metadata": {},
   "outputs": [],
   "source": [
    "*\n",
    "**\n",
    "***\n",
    "****\n",
    "*****"
   ]
  },
  {
   "cell_type": "code",
   "execution_count": 6,
   "id": "16728e76",
   "metadata": {},
   "outputs": [
    {
     "name": "stdout",
     "output_type": "stream",
     "text": [
      "*\n",
      "**\n",
      "***\n",
      "****\n",
      "*****\n"
     ]
    }
   ],
   "source": [
    "a=''\n",
    "for i in range(1,6):\n",
    "    for j in range(i):\n",
    "        a+=\"*\"\n",
    "    print(a)\n",
    "    a=''"
   ]
  },
  {
   "cell_type": "code",
   "execution_count": 1,
   "id": "c2d689e4",
   "metadata": {},
   "outputs": [],
   "source": [
    "#better way"
   ]
  },
  {
   "cell_type": "code",
   "execution_count": 5,
   "id": "b2f9ac7c",
   "metadata": {},
   "outputs": [
    {
     "name": "stdout",
     "output_type": "stream",
     "text": [
      "Enter number of rows 5\n",
      "* \n",
      "* * \n",
      "* * * \n",
      "* * * * \n",
      "* * * * * \n"
     ]
    }
   ],
   "source": [
    "num=int(input('Enter number of rows '))\n",
    "for i in range(1,num+1):\n",
    "    for j in range(1,i+1):\n",
    "        print(\"*\",end=\" \")  #end is used to print the value and\n",
    "                           #next print() will print in same line with end value will print in middle of two print\n",
    "    print()"
   ]
  },
  {
   "cell_type": "code",
   "execution_count": null,
   "id": "50788e05",
   "metadata": {},
   "outputs": [],
   "source": [
    "#2. Printing Stars '*' in Right Angle Triangle Shape.\n",
    "odd no. of '*' in row\n",
    "*\n",
    "***\n",
    "*****"
   ]
  },
  {
   "cell_type": "code",
   "execution_count": 6,
   "id": "24e5703f",
   "metadata": {},
   "outputs": [
    {
     "name": "stdout",
     "output_type": "stream",
     "text": [
      "Enter number of rows 5\n",
      "* \n",
      "* * * \n",
      "* * * * * \n",
      "* * * * * * * \n",
      "* * * * * * * * * \n"
     ]
    }
   ],
   "source": [
    "n=int(input('Enter number of rows '))\n",
    "for i in range(n):\n",
    "    for j in range(i+i+1):\n",
    "        print('*',end=' ')\n",
    "    print()"
   ]
  },
  {
   "cell_type": "code",
   "execution_count": 7,
   "id": "260d34e6",
   "metadata": {},
   "outputs": [],
   "source": [
    "#other way"
   ]
  },
  {
   "cell_type": "code",
   "execution_count": 10,
   "id": "a5a8c88b",
   "metadata": {},
   "outputs": [
    {
     "name": "stdout",
     "output_type": "stream",
     "text": [
      "Enter number of rows 5\n",
      "* \n",
      "* * * \n",
      "* * * * * \n",
      "* * * * * * * \n",
      "* * * * * * * * * \n"
     ]
    }
   ],
   "source": [
    "n=int(input('Enter number of rows '))\n",
    "k=1\n",
    "for i in range(1,n+1):\n",
    "    for j in range(1,k+1):\n",
    "        print('*',end=' ')\n",
    "    print()\n",
    "    k=k+2"
   ]
  },
  {
   "cell_type": "code",
   "execution_count": null,
   "id": "b2bec753",
   "metadata": {},
   "outputs": [],
   "source": []
  }
 ],
 "metadata": {
  "kernelspec": {
   "display_name": "Python 3",
   "language": "python",
   "name": "python3"
  },
  "language_info": {
   "codemirror_mode": {
    "name": "ipython",
    "version": 3
   },
   "file_extension": ".py",
   "mimetype": "text/x-python",
   "name": "python",
   "nbconvert_exporter": "python",
   "pygments_lexer": "ipython3",
   "version": "3.8.8"
  }
 },
 "nbformat": 4,
 "nbformat_minor": 5
}
