{
 "cells": [
  {
   "cell_type": "code",
   "execution_count": 1,
   "id": "fb0d57f5",
   "metadata": {},
   "outputs": [],
   "source": [
    "#List question"
   ]
  },
  {
   "cell_type": "code",
   "execution_count": 2,
   "id": "acd65aa0",
   "metadata": {},
   "outputs": [],
   "source": [
    "py_list=[1,2,3,4,5,6,7,8,9,10]"
   ]
  },
  {
   "cell_type": "code",
   "execution_count": 3,
   "id": "256f4683",
   "metadata": {},
   "outputs": [
    {
     "data": {
      "text/plain": [
       "[1, 2, 3, 4, 5, 6, 7, 8, 9, 10]"
      ]
     },
     "execution_count": 3,
     "metadata": {},
     "output_type": "execute_result"
    }
   ],
   "source": [
    "py_list"
   ]
  },
  {
   "cell_type": "code",
   "execution_count": 4,
   "id": "a72bfa26",
   "metadata": {},
   "outputs": [
    {
     "data": {
      "text/plain": [
       "55"
      ]
     },
     "execution_count": 4,
     "metadata": {},
     "output_type": "execute_result"
    }
   ],
   "source": [
    "sum(py_list)"
   ]
  },
  {
   "cell_type": "code",
   "execution_count": 5,
   "id": "f2c61aee",
   "metadata": {},
   "outputs": [
    {
     "data": {
      "text/plain": [
       "10"
      ]
     },
     "execution_count": 5,
     "metadata": {},
     "output_type": "execute_result"
    }
   ],
   "source": [
    "len(py_list)"
   ]
  },
  {
   "cell_type": "code",
   "execution_count": 6,
   "id": "018fcb87",
   "metadata": {},
   "outputs": [],
   "source": [
    "avg=sum(py_list)/len(py_list)"
   ]
  },
  {
   "cell_type": "code",
   "execution_count": 7,
   "id": "cf6c6b7c",
   "metadata": {},
   "outputs": [
    {
     "data": {
      "text/plain": [
       "5.5"
      ]
     },
     "execution_count": 7,
     "metadata": {},
     "output_type": "execute_result"
    }
   ],
   "source": [
    "avg"
   ]
  },
  {
   "cell_type": "code",
   "execution_count": null,
   "id": "65b07e52",
   "metadata": {},
   "outputs": [],
   "source": [
    "#Q2. list1=[1,2,3,4,5,6]\n",
    "list2=[7,8,9,10,2,4,1]\n",
    "Create a newlist which has elements of lis1 and list2 but without duplicates"
   ]
  },
  {
   "cell_type": "code",
   "execution_count": 1,
   "id": "3e0d6746",
   "metadata": {},
   "outputs": [],
   "source": [
    "#using type casting"
   ]
  },
  {
   "cell_type": "code",
   "execution_count": 2,
   "id": "9b397bd4",
   "metadata": {},
   "outputs": [],
   "source": [
    "list1=[1,2,3,4,5,6]\n",
    "list2=[7,8,9,10,2,4,1]"
   ]
  },
  {
   "cell_type": "code",
   "execution_count": 4,
   "id": "52a2b4ed",
   "metadata": {},
   "outputs": [
    {
     "data": {
      "text/plain": [
       "[1, 2, 3, 4, 5, 6, 7, 8, 9, 10]"
      ]
     },
     "execution_count": 4,
     "metadata": {},
     "output_type": "execute_result"
    }
   ],
   "source": [
    "newlist = list(set(list1 + list2))\n",
    "newlist"
   ]
  },
  {
   "cell_type": "code",
   "execution_count": 5,
   "id": "b6924c51",
   "metadata": {},
   "outputs": [],
   "source": [
    "#using loop"
   ]
  },
  {
   "cell_type": "code",
   "execution_count": 6,
   "id": "2effccf5",
   "metadata": {},
   "outputs": [
    {
     "data": {
      "text/plain": [
       "[1, 2, 3, 4, 5, 6, 7, 8, 9, 10]"
      ]
     },
     "execution_count": 6,
     "metadata": {},
     "output_type": "execute_result"
    }
   ],
   "source": [
    "newlist1 = []\n",
    "temp=list1+list2\n",
    "for i in temp:\n",
    "    if i not in newlist1:\n",
    "        newlist1.append(i)\n",
    "newlist1"
   ]
  },
  {
   "cell_type": "code",
   "execution_count": null,
   "id": "b7f4c8cd",
   "metadata": {},
   "outputs": [],
   "source": [
    "#Q3. Convert matrix to transpose matrix\n",
    "matrix = [\n",
    "    [1,2,3],\n",
    "    [4,5,6],\n",
    "    [7,8,9]\n",
    "]\n",
    "\n",
    "Output:\n",
    "trans_matrix = [\n",
    "    [1,4,7],\n",
    "    [2,5,8],\n",
    "    [3,6,9]\n",
    "]"
   ]
  },
  {
   "cell_type": "code",
   "execution_count": 7,
   "id": "a22fb03a",
   "metadata": {},
   "outputs": [],
   "source": [
    "matrix = [\n",
    "    [1,2,3],\n",
    "    [4,5,6],\n",
    "    [7,8,9]\n",
    "]"
   ]
  },
  {
   "cell_type": "code",
   "execution_count": 8,
   "id": "d0d14b16",
   "metadata": {},
   "outputs": [
    {
     "data": {
      "text/plain": [
       "[[1, 2, 3], [4, 5, 6], [7, 8, 9]]"
      ]
     },
     "execution_count": 8,
     "metadata": {},
     "output_type": "execute_result"
    }
   ],
   "source": [
    "matrix"
   ]
  },
  {
   "cell_type": "code",
   "execution_count": 15,
   "id": "74d403ea",
   "metadata": {},
   "outputs": [
    {
     "data": {
      "text/plain": [
       "[[1, 4, 7], [2, 5, 8], [3, 6, 9]]"
      ]
     },
     "execution_count": 15,
     "metadata": {},
     "output_type": "execute_result"
    }
   ],
   "source": [
    "trans_matrix = []\n",
    "cols = len(matrix[0])\n",
    "for i in range(cols):\n",
    "    t_row = []\n",
    "    for row in matrix:\n",
    "        t_row.append(row[i])\n",
    "    trans_matrix.append(t_row)\n",
    "    \n",
    "trans_matrix"
   ]
  },
  {
   "cell_type": "code",
   "execution_count": 11,
   "id": "f93a879b",
   "metadata": {},
   "outputs": [
    {
     "data": {
      "text/plain": [
       "[1, 2, 3, 4, 5, 6, 7, 8, 9]"
      ]
     },
     "execution_count": 11,
     "metadata": {},
     "output_type": "execute_result"
    }
   ],
   "source": [
    "trans_matrix = []\n",
    "matrix[0]+matrix[1]+matrix[2]"
   ]
  },
  {
   "cell_type": "code",
   "execution_count": null,
   "id": "cbf4b2f4",
   "metadata": {},
   "outputs": [],
   "source": [
    "#transpose in 1 line"
   ]
  },
  {
   "cell_type": "code",
   "execution_count": 16,
   "id": "4f20aaac",
   "metadata": {},
   "outputs": [
    {
     "data": {
      "text/plain": [
       "[[1, 4, 7], [2, 5, 8], [3, 6, 9]]"
      ]
     },
     "execution_count": 16,
     "metadata": {},
     "output_type": "execute_result"
    }
   ],
   "source": [
    "[[row[i] for row in matrix] for i in range(cols)]"
   ]
  },
  {
   "cell_type": "code",
   "execution_count": null,
   "id": "95fbea21",
   "metadata": {},
   "outputs": [],
   "source": [
    "#Q4. What is different between following expresion\n",
    "lst=[1,2,3,4]\n",
    "1. lst * 3\n",
    "2. lst *= 3\n",
    "3. lst +=3\n",
    "4. lst += [3]"
   ]
  },
  {
   "cell_type": "code",
   "execution_count": 17,
   "id": "10ca0792",
   "metadata": {},
   "outputs": [],
   "source": [
    "lst = [1,2,3,4]"
   ]
  },
  {
   "cell_type": "code",
   "execution_count": 18,
   "id": "bdd47415",
   "metadata": {},
   "outputs": [
    {
     "data": {
      "text/plain": [
       "[1, 2, 3, 4, 1, 2, 3, 4, 1, 2, 3, 4]"
      ]
     },
     "execution_count": 18,
     "metadata": {},
     "output_type": "execute_result"
    }
   ],
   "source": [
    "lst * 3    #repeat/replicate the list for 3 times and original list remain same "
   ]
  },
  {
   "cell_type": "code",
   "execution_count": 19,
   "id": "c8de4e00",
   "metadata": {},
   "outputs": [],
   "source": [
    "lst *=3    #lst = lst*3 it will repeat the list for 3 times and update the original list"
   ]
  },
  {
   "cell_type": "code",
   "execution_count": 20,
   "id": "56039d83",
   "metadata": {},
   "outputs": [
    {
     "data": {
      "text/plain": [
       "[1, 2, 3, 4, 1, 2, 3, 4, 1, 2, 3, 4]"
      ]
     },
     "execution_count": 20,
     "metadata": {},
     "output_type": "execute_result"
    }
   ],
   "source": [
    "lst"
   ]
  },
  {
   "cell_type": "code",
   "execution_count": 21,
   "id": "a72961c7",
   "metadata": {},
   "outputs": [],
   "source": [
    "lst = [1,2,3,4]"
   ]
  },
  {
   "cell_type": "code",
   "execution_count": 22,
   "id": "e5845230",
   "metadata": {},
   "outputs": [
    {
     "ename": "TypeError",
     "evalue": "'int' object is not iterable",
     "output_type": "error",
     "traceback": [
      "\u001b[1;31m---------------------------------------------------------------------------\u001b[0m",
      "\u001b[1;31mTypeError\u001b[0m                                 Traceback (most recent call last)",
      "\u001b[1;32m<ipython-input-22-bea41e9e7552>\u001b[0m in \u001b[0;36m<module>\u001b[1;34m\u001b[0m\n\u001b[1;32m----> 1\u001b[1;33m \u001b[0mlst\u001b[0m \u001b[1;33m+=\u001b[0m\u001b[1;36m3\u001b[0m\u001b[1;33m\u001b[0m\u001b[1;33m\u001b[0m\u001b[0m\n\u001b[0m",
      "\u001b[1;31mTypeError\u001b[0m: 'int' object is not iterable"
     ]
    }
   ],
   "source": [
    "lst +=3   #can only concatenate list with list(not with int)"
   ]
  },
  {
   "cell_type": "code",
   "execution_count": 23,
   "id": "d7d92b56",
   "metadata": {},
   "outputs": [],
   "source": [
    "lst +=[3]  #concatenate list with [3] (i.e. list)"
   ]
  },
  {
   "cell_type": "code",
   "execution_count": 24,
   "id": "15bdd4d1",
   "metadata": {},
   "outputs": [
    {
     "data": {
      "text/plain": [
       "[1, 2, 3, 4, 3]"
      ]
     },
     "execution_count": 24,
     "metadata": {},
     "output_type": "execute_result"
    }
   ],
   "source": [
    "lst"
   ]
  },
  {
   "cell_type": "code",
   "execution_count": 1,
   "id": "9b1ad1bb",
   "metadata": {},
   "outputs": [],
   "source": [
    "#Q5. By using for loop, count a number of occurence of specific element. Without using count()"
   ]
  },
  {
   "cell_type": "code",
   "execution_count": null,
   "id": "ee4f8dc5",
   "metadata": {},
   "outputs": [],
   "source": []
  },
  {
   "cell_type": "code",
   "execution_count": 6,
   "id": "77149929",
   "metadata": {},
   "outputs": [
    {
     "name": "stdout",
     "output_type": "stream",
     "text": [
      "Enter no. of element present in list: 10\n",
      "Enter elements: 4\n",
      "Enter elements: 7\n",
      "Enter elements: 9\n",
      "Enter elements: 3\n",
      "Enter elements: 2\n",
      "Enter elements: 7\n",
      "Enter elements: 4\n",
      "Enter elements: 4\n",
      "Enter elements: 9\n",
      "Enter elements: 1\n",
      "Enter the no. to check occurence: 9\n"
     ]
    },
    {
     "data": {
      "text/plain": [
       "2"
      ]
     },
     "execution_count": 6,
     "metadata": {},
     "output_type": "execute_result"
    }
   ],
   "source": [
    "no_elements=int(input('Enter no. of element present in list: '))\n",
    "list1=[]\n",
    "for i in range(no_elements):\n",
    "    list1.append(int(input('Enter elements: ')))\n",
    "count_no = input(\"Enter the no. to check occurence: \")\n",
    "count=0\n",
    "for i in list1:\n",
    "    if i == int(count_no):\n",
    "        count+=1\n",
    "count"
   ]
  },
  {
   "cell_type": "code",
   "execution_count": 7,
   "id": "8a30636f",
   "metadata": {},
   "outputs": [
    {
     "name": "stdout",
     "output_type": "stream",
     "text": [
      "Enter the no. to check occurence: 1\n"
     ]
    },
    {
     "data": {
      "text/plain": [
       "4"
      ]
     },
     "execution_count": 7,
     "metadata": {},
     "output_type": "execute_result"
    }
   ],
   "source": [
    "lst=[1,1,1,1,2,3,4,5,6,6,6,6]\n",
    "count_no = input(\"Enter the no. to check occurence: \")\n",
    "count=0\n",
    "for i in lst:\n",
    "    if i == int(count_no):\n",
    "        count+=1\n",
    "count"
   ]
  },
  {
   "cell_type": "code",
   "execution_count": 1,
   "id": "61058ac0",
   "metadata": {},
   "outputs": [],
   "source": [
    "#Q6. Calculate the avg marks of student using function"
   ]
  },
  {
   "cell_type": "code",
   "execution_count": 3,
   "id": "0980211b",
   "metadata": {},
   "outputs": [
    {
     "data": {
      "text/plain": [
       "72.6"
      ]
     },
     "execution_count": 3,
     "metadata": {},
     "output_type": "execute_result"
    }
   ],
   "source": [
    "marks=[87,56,47,82,91]\n",
    "avg=sum(marks)/len(marks)\n",
    "avg"
   ]
  },
  {
   "cell_type": "code",
   "execution_count": 4,
   "id": "f7862042",
   "metadata": {},
   "outputs": [],
   "source": [
    "#using function"
   ]
  },
  {
   "cell_type": "code",
   "execution_count": 12,
   "id": "b60f1bf4",
   "metadata": {},
   "outputs": [
    {
     "data": {
      "text/plain": [
       "72.6"
      ]
     },
     "execution_count": 12,
     "metadata": {},
     "output_type": "execute_result"
    }
   ],
   "source": [
    "#In python, time complexity is O(1)\n",
    "#In c, Java, Time complexity will be O(n)\n",
    "\n",
    "def avg_marks(marks):\n",
    "    avg_marks_stud=sum(marks)/len(marks)\n",
    "    return avg_marks_stud\n",
    "\n",
    "marks=[87,56,47,82,91]\n",
    "avg_marks(marks)"
   ]
  },
  {
   "cell_type": "code",
   "execution_count": null,
   "id": "5863a09a",
   "metadata": {},
   "outputs": [],
   "source": []
  }
 ],
 "metadata": {
  "kernelspec": {
   "display_name": "Python 3",
   "language": "python",
   "name": "python3"
  },
  "language_info": {
   "codemirror_mode": {
    "name": "ipython",
    "version": 3
   },
   "file_extension": ".py",
   "mimetype": "text/x-python",
   "name": "python",
   "nbconvert_exporter": "python",
   "pygments_lexer": "ipython3",
   "version": "3.8.8"
  }
 },
 "nbformat": 4,
 "nbformat_minor": 5
}
