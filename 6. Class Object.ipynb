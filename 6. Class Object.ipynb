{
 "cells": [
  {
   "cell_type": "code",
   "execution_count": 1,
   "id": "27323b3e",
   "metadata": {},
   "outputs": [],
   "source": [
    "#class object and method"
   ]
  },
  {
   "cell_type": "code",
   "execution_count": 3,
   "id": "814c6acf",
   "metadata": {},
   "outputs": [
    {
     "name": "stdout",
     "output_type": "stream",
     "text": [
      "(101, {'name': 'Laptop', 'price': 45000})\n",
      "(102, {'name': 'mobile', 'price': 50000})\n",
      "(103, {'name': 'tablet', 'price': 75000})\n",
      "(104, {'name': 'printer', 'price': 35000})\n"
     ]
    }
   ],
   "source": [
    "class Product:\n",
    "    product = {101:{'name':'Laptop','price':45000},\n",
    "              102:{'name':'mobile','price':50000},\n",
    "              103:{'name':'tablet','price':75000},\n",
    "              104:{'name':'printer','price':35000}}\n",
    "    def display(self):\n",
    "        for items in Product.product.items():\n",
    "            print(items)\n",
    "    def additems(self):\n",
    "        self.display()\n",
    "        \n",
    "product_obj = Product()\n",
    "product_obj.additems()"
   ]
  },
  {
   "cell_type": "code",
   "execution_count": null,
   "id": "1a0e9f63",
   "metadata": {},
   "outputs": [],
   "source": []
  }
 ],
 "metadata": {
  "kernelspec": {
   "display_name": "Python 3",
   "language": "python",
   "name": "python3"
  },
  "language_info": {
   "codemirror_mode": {
    "name": "ipython",
    "version": 3
   },
   "file_extension": ".py",
   "mimetype": "text/x-python",
   "name": "python",
   "nbconvert_exporter": "python",
   "pygments_lexer": "ipython3",
   "version": "3.8.8"
  }
 },
 "nbformat": 4,
 "nbformat_minor": 5
}
