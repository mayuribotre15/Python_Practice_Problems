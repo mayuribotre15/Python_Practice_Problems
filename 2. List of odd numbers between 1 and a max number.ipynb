{
 "cells": [
  {
   "cell_type": "code",
   "execution_count": 1,
   "id": "6746fb30",
   "metadata": {},
   "outputs": [],
   "source": [
    "#Create a list of all odd numbers between 1 and a max number.\n",
    "#Max number is something you need to take from a user using input() function"
   ]
  },
  {
   "cell_type": "code",
   "execution_count": 15,
   "id": "a3c6851a",
   "metadata": {},
   "outputs": [
    {
     "name": "stdout",
     "output_type": "stream",
     "text": [
      "Enter a number9\n",
      "[1, 3, 5, 7, 9]\n"
     ]
    }
   ],
   "source": [
    "max_no=int(input('Enter a number'))\n",
    "list_of_odd_no=[]\n",
    "for n in range(1,max_no+1):\n",
    "    if n%2 != 0:\n",
    "        list_of_odd_no.append(n)\n",
    "print(list_of_odd_no)"
   ]
  },
  {
   "cell_type": "code",
   "execution_count": null,
   "id": "604f6f81",
   "metadata": {},
   "outputs": [],
   "source": []
  }
 ],
 "metadata": {
  "kernelspec": {
   "display_name": "Python 3",
   "language": "python",
   "name": "python3"
  },
  "language_info": {
   "codemirror_mode": {
    "name": "ipython",
    "version": 3
   },
   "file_extension": ".py",
   "mimetype": "text/x-python",
   "name": "python",
   "nbconvert_exporter": "python",
   "pygments_lexer": "ipython3",
   "version": "3.8.8"
  }
 },
 "nbformat": 4,
 "nbformat_minor": 5
}
