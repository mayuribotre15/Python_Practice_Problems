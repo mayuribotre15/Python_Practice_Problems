{
 "cells": [
  {
   "cell_type": "code",
   "execution_count": 1,
   "id": "c954c22e",
   "metadata": {},
   "outputs": [
    {
     "data": {
      "text/plain": [
       "'Let us say your expense for every month are listed below,\\nJanuary - 2200\\nFebruary - 2350\\nMarch - 2600\\nApril - 2130\\nMay - 2190\\nCreate a list to store these monthly expenses and using that find out,\\n\\n1. In Feb, how many dollars you spent extra compare to January?\\n2. Find out your total expense in first quarter (first three months) of the year.\\n3. Find out if you spent exactly 2000 dollars in any month\\n4. June month just finished and your expense is 1980 dollar. Add this item to our monthly expense list\\n5. You returned an item that you bought in a month of April and\\ngot a refund of 200$. Make a correction to your monthly expense list\\nbased on this'"
      ]
     },
     "execution_count": 1,
     "metadata": {},
     "output_type": "execute_result"
    }
   ],
   "source": [
    "'''Let us say your expense for every month are listed below,\n",
    "January - 2200\n",
    "February - 2350\n",
    "March - 2600\n",
    "April - 2130\n",
    "May - 2190\n",
    "Create a list to store these monthly expenses and using that find out,\n",
    "\n",
    "1. In Feb, how many dollars you spent extra compare to January?\n",
    "2. Find out your total expense in first quarter (first three months) of the year.\n",
    "3. Find out if you spent exactly 2000 dollars in any month\n",
    "4. June month just finished and your expense is 1980 dollar. Add this item to our monthly expense list\n",
    "5. You returned an item that you bought in a month of April and\n",
    "got a refund of 200$. Make a correction to your monthly expense list\n",
    "based on this'''"
   ]
  },
  {
   "cell_type": "code",
   "execution_count": 2,
   "id": "139a4f16",
   "metadata": {},
   "outputs": [],
   "source": [
    "expense=[{'January':2200},{'February':2350},{'March':2600},{'April':2130},{'May':2190}]"
   ]
  },
  {
   "cell_type": "code",
   "execution_count": 3,
   "id": "a23dada8",
   "metadata": {},
   "outputs": [],
   "source": [
    "#In Feb, how many dollars you spent extra compare to January?"
   ]
  },
  {
   "cell_type": "code",
   "execution_count": 6,
   "id": "c78e3b66",
   "metadata": {},
   "outputs": [
    {
     "data": {
      "text/plain": [
       "150"
      ]
     },
     "execution_count": 6,
     "metadata": {},
     "output_type": "execute_result"
    }
   ],
   "source": [
    "expense[1]['February']-expense[0]['January']"
   ]
  },
  {
   "cell_type": "code",
   "execution_count": 7,
   "id": "f44d4f5d",
   "metadata": {},
   "outputs": [],
   "source": [
    "#Find out your total expense in first quarter (first three months) of the year."
   ]
  },
  {
   "cell_type": "code",
   "execution_count": 44,
   "id": "9d263211",
   "metadata": {},
   "outputs": [
    {
     "name": "stdout",
     "output_type": "stream",
     "text": [
      "7150\n"
     ]
    }
   ],
   "source": [
    "total_expense_first_quarter=0\n",
    "for i in expense[0:3]:\n",
    "    total_expense_first_quarter +=list(i.values())[0]\n",
    "print(total_expense_first_quarter)"
   ]
  },
  {
   "cell_type": "code",
   "execution_count": 38,
   "id": "86aa7f8c",
   "metadata": {},
   "outputs": [
    {
     "name": "stdout",
     "output_type": "stream",
     "text": [
      "2200\n",
      "2350\n",
      "2600\n"
     ]
    }
   ],
   "source": [
    "for i in expense[0:3]:\n",
    "    print(list(i.values())[0])"
   ]
  },
  {
   "cell_type": "code",
   "execution_count": 42,
   "id": "858985cb",
   "metadata": {},
   "outputs": [],
   "source": [
    "#Find out if you spent exactly 2000 dollars in any month"
   ]
  },
  {
   "cell_type": "code",
   "execution_count": 45,
   "id": "81631c20",
   "metadata": {},
   "outputs": [
    {
     "name": "stdout",
     "output_type": "stream",
     "text": [
      "[('January', 2200)]\n",
      "[('February', 2350)]\n",
      "[('March', 2600)]\n"
     ]
    }
   ],
   "source": [
    "for i in expense[0:3]:\n",
    "    print(list(i.items()))"
   ]
  },
  {
   "cell_type": "code",
   "execution_count": 54,
   "id": "306343dc",
   "metadata": {},
   "outputs": [
    {
     "name": "stdout",
     "output_type": "stream",
     "text": [
      "Not spent exactly 2000 dollars in any month\n"
     ]
    }
   ],
   "source": [
    "count_month=False\n",
    "for i in expense:\n",
    "    if list(i.values())[0] == 2000:\n",
    "        count_month=True\n",
    "        print(i)\n",
    "        break\n",
    "        \n",
    "if count_month==False:\n",
    "    print('Not spent exactly 2000 dollars in any month')"
   ]
  },
  {
   "cell_type": "code",
   "execution_count": 55,
   "id": "31f91009",
   "metadata": {},
   "outputs": [],
   "source": [
    "expense=[{'January':2200},{'February':2350},{'March':2600},{'April':2130},{'May':2190}]"
   ]
  },
  {
   "cell_type": "code",
   "execution_count": 56,
   "id": "9b8d0dde",
   "metadata": {},
   "outputs": [],
   "source": [
    "expense.append({'June':2000})"
   ]
  },
  {
   "cell_type": "code",
   "execution_count": 57,
   "id": "e7339b7a",
   "metadata": {},
   "outputs": [
    {
     "data": {
      "text/plain": [
       "[{'January': 2200},\n",
       " {'February': 2350},\n",
       " {'March': 2600},\n",
       " {'April': 2130},\n",
       " {'May': 2190},\n",
       " {'June': 2000}]"
      ]
     },
     "execution_count": 57,
     "metadata": {},
     "output_type": "execute_result"
    }
   ],
   "source": [
    "expense"
   ]
  },
  {
   "cell_type": "code",
   "execution_count": 58,
   "id": "1d6646d7",
   "metadata": {},
   "outputs": [
    {
     "name": "stdout",
     "output_type": "stream",
     "text": [
      "{'June': 2000}\n"
     ]
    }
   ],
   "source": [
    "count_month=False\n",
    "for i in expense:\n",
    "    if list(i.values())[0] == 2000:\n",
    "        count_month=True\n",
    "        print(i)\n",
    "        break\n",
    "        \n",
    "if count_month==False:\n",
    "    print('Not spent exactly 2000 dollars in any month')"
   ]
  },
  {
   "cell_type": "code",
   "execution_count": 59,
   "id": "4a65b53e",
   "metadata": {},
   "outputs": [],
   "source": [
    "#June month just finished and your expense is 1980 dollar. Add this item to our monthly expense list"
   ]
  },
  {
   "cell_type": "code",
   "execution_count": 60,
   "id": "aba31da9",
   "metadata": {},
   "outputs": [
    {
     "data": {
      "text/plain": [
       "[{'January': 2200},\n",
       " {'February': 2350},\n",
       " {'March': 2600},\n",
       " {'April': 2130},\n",
       " {'May': 2190},\n",
       " {'June': 2000}]"
      ]
     },
     "execution_count": 60,
     "metadata": {},
     "output_type": "execute_result"
    }
   ],
   "source": [
    "expense"
   ]
  },
  {
   "cell_type": "code",
   "execution_count": 61,
   "id": "078935e4",
   "metadata": {},
   "outputs": [
    {
     "data": {
      "text/plain": [
       "{'June': 2000}"
      ]
     },
     "execution_count": 61,
     "metadata": {},
     "output_type": "execute_result"
    }
   ],
   "source": [
    "expense.pop(-1)"
   ]
  },
  {
   "cell_type": "code",
   "execution_count": 62,
   "id": "88e0a239",
   "metadata": {},
   "outputs": [
    {
     "data": {
      "text/plain": [
       "[{'January': 2200},\n",
       " {'February': 2350},\n",
       " {'March': 2600},\n",
       " {'April': 2130},\n",
       " {'May': 2190}]"
      ]
     },
     "execution_count": 62,
     "metadata": {},
     "output_type": "execute_result"
    }
   ],
   "source": [
    "expense"
   ]
  },
  {
   "cell_type": "code",
   "execution_count": 63,
   "id": "889056e3",
   "metadata": {},
   "outputs": [],
   "source": [
    "expense.append({'June':1980})"
   ]
  },
  {
   "cell_type": "code",
   "execution_count": 64,
   "id": "17df12c9",
   "metadata": {},
   "outputs": [
    {
     "data": {
      "text/plain": [
       "[{'January': 2200},\n",
       " {'February': 2350},\n",
       " {'March': 2600},\n",
       " {'April': 2130},\n",
       " {'May': 2190},\n",
       " {'June': 1980}]"
      ]
     },
     "execution_count": 64,
     "metadata": {},
     "output_type": "execute_result"
    }
   ],
   "source": [
    "expense"
   ]
  },
  {
   "cell_type": "code",
   "execution_count": null,
   "id": "9ff40734",
   "metadata": {},
   "outputs": [],
   "source": [
    "#You returned an item that you bought in a month of April and\n",
    "got a refund of 200$. \n",
    "Make a correction to your monthly expense list based on this"
   ]
  },
  {
   "cell_type": "code",
   "execution_count": 65,
   "id": "bce15c50",
   "metadata": {},
   "outputs": [
    {
     "data": {
      "text/plain": [
       "dict_values([2130])"
      ]
     },
     "execution_count": 65,
     "metadata": {},
     "output_type": "execute_result"
    }
   ],
   "source": [
    "expense[3].values()"
   ]
  },
  {
   "cell_type": "code",
   "execution_count": 68,
   "id": "216ce9b4",
   "metadata": {},
   "outputs": [
    {
     "data": {
      "text/plain": [
       "1930"
      ]
     },
     "execution_count": 68,
     "metadata": {},
     "output_type": "execute_result"
    }
   ],
   "source": [
    "list(expense[3].values())[0]-200"
   ]
  },
  {
   "cell_type": "code",
   "execution_count": 74,
   "id": "9b648bf4",
   "metadata": {},
   "outputs": [],
   "source": [
    "expense[3]['April']=list(expense[3].values())[0]-200"
   ]
  },
  {
   "cell_type": "code",
   "execution_count": 75,
   "id": "dcb17c11",
   "metadata": {},
   "outputs": [
    {
     "data": {
      "text/plain": [
       "[{'January': 2200},\n",
       " {'February': 2350},\n",
       " {'March': 2600},\n",
       " {'April': 1930},\n",
       " {'May': 2190},\n",
       " {'June': 1980}]"
      ]
     },
     "execution_count": 75,
     "metadata": {},
     "output_type": "execute_result"
    }
   ],
   "source": [
    "expense"
   ]
  },
  {
   "cell_type": "code",
   "execution_count": 73,
   "id": "0948d15d",
   "metadata": {},
   "outputs": [],
   "source": [
    "expense[3]['April']=2130"
   ]
  },
  {
   "cell_type": "code",
   "execution_count": null,
   "id": "1e106eb9",
   "metadata": {},
   "outputs": [],
   "source": []
  }
 ],
 "metadata": {
  "kernelspec": {
   "display_name": "Python 3",
   "language": "python",
   "name": "python3"
  },
  "language_info": {
   "codemirror_mode": {
    "name": "ipython",
    "version": 3
   },
   "file_extension": ".py",
   "mimetype": "text/x-python",
   "name": "python",
   "nbconvert_exporter": "python",
   "pygments_lexer": "ipython3",
   "version": "3.8.8"
  }
 },
 "nbformat": 4,
 "nbformat_minor": 5
}
