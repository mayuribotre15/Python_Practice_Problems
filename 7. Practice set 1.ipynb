{
 "cells": [
  {
   "cell_type": "code",
   "execution_count": 1,
   "id": "3bc152b2",
   "metadata": {},
   "outputs": [],
   "source": [
    "#Q1. Python program to calculate the avg of numbers in lists"
   ]
  },
  {
   "cell_type": "code",
   "execution_count": 2,
   "id": "3928b69f",
   "metadata": {},
   "outputs": [
    {
     "data": {
      "text/plain": [
       "5.0"
      ]
     },
     "execution_count": 2,
     "metadata": {},
     "output_type": "execute_result"
    }
   ],
   "source": [
    "lst = [4,8,2,6,9,1,5]\n",
    "avg = sum(lst)/len(lst)\n",
    "avg"
   ]
  },
  {
   "cell_type": "code",
   "execution_count": 10,
   "id": "54d70327",
   "metadata": {},
   "outputs": [],
   "source": [
    "def avg(lst):\n",
    "    avg =sum(lst)/len(lst)\n",
    "    print(avg)"
   ]
  },
  {
   "cell_type": "code",
   "execution_count": 11,
   "id": "2569dd39",
   "metadata": {},
   "outputs": [
    {
     "name": "stdout",
     "output_type": "stream",
     "text": [
      "5.0\n"
     ]
    }
   ],
   "source": [
    "avg([4,8,2,6,9,1,5])"
   ]
  },
  {
   "cell_type": "code",
   "execution_count": 3,
   "id": "76e34daa",
   "metadata": {},
   "outputs": [],
   "source": [
    "#Q2. Python program to exchange the values of two numbers without using third variable"
   ]
  },
  {
   "cell_type": "code",
   "execution_count": 1,
   "id": "931ab65c",
   "metadata": {},
   "outputs": [
    {
     "name": "stdout",
     "output_type": "stream",
     "text": [
      "x: 30  y: 27\n",
      "x: 27  y: 30\n"
     ]
    }
   ],
   "source": [
    "x=30\n",
    "y=27\n",
    "print(f'x: {x}  y: {y}')\n",
    "x,y =y,x\n",
    "print(f'x: {x}  y: {y}')"
   ]
  },
  {
   "cell_type": "code",
   "execution_count": 5,
   "id": "d824d5c0",
   "metadata": {},
   "outputs": [
    {
     "data": {
      "text/plain": [
       "20"
      ]
     },
     "execution_count": 5,
     "metadata": {},
     "output_type": "execute_result"
    }
   ],
   "source": [
    "a = 10\n",
    "b = 20\n",
    "a = a + b    #a= 10 +20 =30        a=30 b=20\n",
    "b = a - b    #b= 30 - 20 = 10      a=30 b=10\n",
    "a = a - b    #a= 30 -10 =20        a=20 b=10\n",
    "a"
   ]
  },
  {
   "cell_type": "code",
   "execution_count": 6,
   "id": "c5ba4b4c",
   "metadata": {},
   "outputs": [
    {
     "data": {
      "text/plain": [
       "10"
      ]
     },
     "execution_count": 6,
     "metadata": {},
     "output_type": "execute_result"
    }
   ],
   "source": [
    "b"
   ]
  },
  {
   "cell_type": "code",
   "execution_count": 7,
   "id": "3514445c",
   "metadata": {},
   "outputs": [],
   "source": [
    "lst1=[20,30]\n",
    "lst1.reverse()"
   ]
  },
  {
   "cell_type": "code",
   "execution_count": 8,
   "id": "fbc17cad",
   "metadata": {},
   "outputs": [
    {
     "data": {
      "text/plain": [
       "[30, 20]"
      ]
     },
     "execution_count": 8,
     "metadata": {},
     "output_type": "execute_result"
    }
   ],
   "source": [
    "lst1"
   ]
  },
  {
   "cell_type": "code",
   "execution_count": 12,
   "id": "c257da7b",
   "metadata": {},
   "outputs": [],
   "source": [
    "def swap(a,b):\n",
    "    a= a+b\n",
    "    b= a-b\n",
    "    a= a-b\n",
    "    return a,b"
   ]
  },
  {
   "cell_type": "code",
   "execution_count": 16,
   "id": "77bce9b0",
   "metadata": {},
   "outputs": [],
   "source": [
    "a,b = swap(100,40)"
   ]
  },
  {
   "cell_type": "code",
   "execution_count": 17,
   "id": "c1d685aa",
   "metadata": {},
   "outputs": [
    {
     "data": {
      "text/plain": [
       "40"
      ]
     },
     "execution_count": 17,
     "metadata": {},
     "output_type": "execute_result"
    }
   ],
   "source": [
    "a"
   ]
  },
  {
   "cell_type": "code",
   "execution_count": 18,
   "id": "e1f64824",
   "metadata": {},
   "outputs": [
    {
     "data": {
      "text/plain": [
       "100"
      ]
     },
     "execution_count": 18,
     "metadata": {},
     "output_type": "execute_result"
    }
   ],
   "source": [
    "b"
   ]
  },
  {
   "cell_type": "code",
   "execution_count": 9,
   "id": "f1f24009",
   "metadata": {},
   "outputs": [],
   "source": [
    "#Q3. python program to a read number n and compute n+nn+nnn+nnnn"
   ]
  },
  {
   "cell_type": "code",
   "execution_count": 14,
   "id": "1277b56b",
   "metadata": {},
   "outputs": [
    {
     "data": {
      "text/plain": [
       "11110"
      ]
     },
     "execution_count": 14,
     "metadata": {},
     "output_type": "execute_result"
    }
   ],
   "source": [
    "(lambda x:x+ x*x + x*x*x+ x*x*x*x)(10)"
   ]
  },
  {
   "cell_type": "code",
   "execution_count": 20,
   "id": "f93178a8",
   "metadata": {},
   "outputs": [],
   "source": [
    "def compute(n):\n",
    "    result = n + n*n + n*n*n + n*n*n*n\n",
    "    print(result)"
   ]
  },
  {
   "cell_type": "code",
   "execution_count": 21,
   "id": "9e167f6c",
   "metadata": {},
   "outputs": [
    {
     "name": "stdout",
     "output_type": "stream",
     "text": [
      "4\n"
     ]
    }
   ],
   "source": [
    "compute(1)"
   ]
  },
  {
   "cell_type": "code",
   "execution_count": 22,
   "id": "bcf9a9a2",
   "metadata": {},
   "outputs": [
    {
     "name": "stdout",
     "output_type": "stream",
     "text": [
      "11110\n"
     ]
    }
   ],
   "source": [
    "compute(10)"
   ]
  },
  {
   "cell_type": "code",
   "execution_count": 30,
   "id": "0281a175",
   "metadata": {},
   "outputs": [],
   "source": [
    "import math"
   ]
  },
  {
   "cell_type": "code",
   "execution_count": 32,
   "id": "8bc5cf10",
   "metadata": {},
   "outputs": [],
   "source": [
    "def comp(n):\n",
    "    res = n + math.pow(n,2) + math.pow(n,3) + math.pow(n,4)\n",
    "    print(res)"
   ]
  },
  {
   "cell_type": "code",
   "execution_count": 33,
   "id": "d251b417",
   "metadata": {},
   "outputs": [
    {
     "name": "stdout",
     "output_type": "stream",
     "text": [
      "4.0\n"
     ]
    }
   ],
   "source": [
    "comp(1)"
   ]
  },
  {
   "cell_type": "code",
   "execution_count": 34,
   "id": "dd58ff71",
   "metadata": {},
   "outputs": [],
   "source": [
    "#Q4. Python progam to reverse the given number"
   ]
  },
  {
   "cell_type": "code",
   "execution_count": 42,
   "id": "e364ae9e",
   "metadata": {},
   "outputs": [],
   "source": [
    "def reverse(n):\n",
    "    print(int(str(n)[::-1]))"
   ]
  },
  {
   "cell_type": "code",
   "execution_count": 43,
   "id": "b07a28c0",
   "metadata": {},
   "outputs": [
    {
     "name": "stdout",
     "output_type": "stream",
     "text": [
      "992\n"
     ]
    }
   ],
   "source": [
    "reverse(299)"
   ]
  },
  {
   "cell_type": "code",
   "execution_count": 44,
   "id": "c8b276f4",
   "metadata": {},
   "outputs": [
    {
     "name": "stdout",
     "output_type": "stream",
     "text": [
      "83\n"
     ]
    }
   ],
   "source": [
    "reverse(3800)"
   ]
  },
  {
   "cell_type": "code",
   "execution_count": 45,
   "id": "99f0c541",
   "metadata": {},
   "outputs": [],
   "source": [
    "#Q5. python program to take a five subject marks and display the grade"
   ]
  },
  {
   "cell_type": "code",
   "execution_count": 50,
   "id": "2c84a5a7",
   "metadata": {},
   "outputs": [],
   "source": [
    "def grade():\n",
    "    sub_marks =[]\n",
    "    for i in range(1,6):\n",
    "        mark = int(input(f'Enter subject {i} marks: '))\n",
    "        sub_marks.append(mark)\n",
    "    \n",
    "    per = sum(sub_marks)/500 *100    #per-- percentage\n",
    "    \n",
    "    if per<=100 and per>=80:\n",
    "        grade =\"A+\"\n",
    "    elif per<80 and per>=70:\n",
    "        grade =\"A\"\n",
    "    elif per<70 and per>=60:\n",
    "        grade =\"B\"\n",
    "    elif per<60 and per>=50:\n",
    "        grade =\"C\"\n",
    "    elif per<50 and per>40:\n",
    "        grade =\"D\"\n",
    "    else:\n",
    "        grade =\"Fail\"\n",
    "        \n",
    "    return sub_marks, per, grade"
   ]
  },
  {
   "cell_type": "code",
   "execution_count": 51,
   "id": "e1bc4a98",
   "metadata": {},
   "outputs": [
    {
     "name": "stdout",
     "output_type": "stream",
     "text": [
      "Enter subject 1 marks: 87\n",
      "Enter subject 2 marks: 56\n",
      "Enter subject 3 marks: 99\n",
      "Enter subject 4 marks: 84\n",
      "Enter subject 5 marks: 58\n"
     ]
    }
   ],
   "source": [
    "result = grade()"
   ]
  },
  {
   "cell_type": "code",
   "execution_count": 52,
   "id": "c136fbcb",
   "metadata": {},
   "outputs": [
    {
     "data": {
      "text/plain": [
       "([87, 56, 99, 84, 58], 76.8, 'A')"
      ]
     },
     "execution_count": 52,
     "metadata": {},
     "output_type": "execute_result"
    }
   ],
   "source": [
    "result"
   ]
  },
  {
   "cell_type": "code",
   "execution_count": 53,
   "id": "099b1ef2",
   "metadata": {},
   "outputs": [],
   "source": [
    "#Q6. python program to print all numbers in range divisible by given number"
   ]
  },
  {
   "cell_type": "code",
   "execution_count": 54,
   "id": "0b252dc8",
   "metadata": {},
   "outputs": [],
   "source": [
    "def divisible_no(start,end, num):\n",
    "    for i in range(start,end):\n",
    "        if i%num == 0:\n",
    "            print(i)"
   ]
  },
  {
   "cell_type": "code",
   "execution_count": 56,
   "id": "19e67a26",
   "metadata": {},
   "outputs": [
    {
     "name": "stdout",
     "output_type": "stream",
     "text": [
      "10\n",
      "12\n",
      "14\n",
      "16\n",
      "18\n",
      "20\n",
      "22\n",
      "24\n",
      "26\n",
      "28\n",
      "30\n",
      "32\n",
      "34\n",
      "36\n",
      "38\n"
     ]
    }
   ],
   "source": [
    "divisible_no(10,40,2)"
   ]
  },
  {
   "cell_type": "code",
   "execution_count": null,
   "id": "359ef5c6",
   "metadata": {},
   "outputs": [],
   "source": [
    "#Q7. PP to read two numbers and print there quotrient and reminder"
   ]
  },
  {
   "cell_type": "code",
   "execution_count": 1,
   "id": "3c58077c",
   "metadata": {},
   "outputs": [],
   "source": [
    "def quotient_rem():\n",
    "    dividend = int(input('Enter dividend :'))\n",
    "    divisor = int(input('Enter divisor :'))\n",
    "    quotient = dividend//divisor\n",
    "    remainder = dividend%divisor\n",
    "    print(f'Quotient = {quotient} and Remainder = {remainder}')"
   ]
  },
  {
   "cell_type": "code",
   "execution_count": 4,
   "id": "2f2be022",
   "metadata": {},
   "outputs": [
    {
     "name": "stdout",
     "output_type": "stream",
     "text": [
      "Enter dividend :23\n",
      "Enter divisor :5\n",
      "Quotient = 4 and Remainder = 3\n"
     ]
    }
   ],
   "source": [
    "quotient_rem()"
   ]
  },
  {
   "cell_type": "code",
   "execution_count": 5,
   "id": "b07c3eb1",
   "metadata": {},
   "outputs": [],
   "source": [
    "#Q8. PP to accept three digits and print all possible combinations from digits"
   ]
  },
  {
   "cell_type": "code",
   "execution_count": null,
   "id": "ccbdd0f3",
   "metadata": {},
   "outputs": [],
   "source": []
  },
  {
   "cell_type": "code",
   "execution_count": 19,
   "id": "a7ae4823",
   "metadata": {},
   "outputs": [],
   "source": [
    "def combination():\n",
    "    three_digit_num =input('Enter three digit number : ')\n",
    "    if three_digit_num.isdecimal() and len(three_digit_num)==3:\n",
    "        split_num_lst = split_num(three_digit_num)\n",
    "        com_lst = swap_digit(split_num_lst)\n",
    "        print(com_lst)\n",
    "    else:\n",
    "        print(\"Enter valid number\")"
   ]
  },
  {
   "cell_type": "code",
   "execution_count": 20,
   "id": "f5174e97",
   "metadata": {},
   "outputs": [],
   "source": [
    "# used to split isnumeric value, i.e value in string type\n",
    "def split_num(num):\n",
    "    num_list=[]\n",
    "    for i in range(len(num)):\n",
    "        num_list.append(int(num[i]))\n",
    "    return num_list"
   ]
  },
  {
   "cell_type": "code",
   "execution_count": 21,
   "id": "c793abc8",
   "metadata": {},
   "outputs": [],
   "source": [
    "def swap_digit(lst):\n",
    "    count=0\n",
    "    com_lst=[]\n",
    "    for i in range(6):\n",
    "        \n",
    "        lst[count],lst[count+1] = lst[count+1],lst[count])\n",
    "        com_lst.append(int(str(lst[0])+str(lst[1])+str(lst[2])))\n",
    "        if count == 0:\n",
    "            count+=1\n",
    "        else:\n",
    "            count-=1\n",
    "    return com_lst"
   ]
  },
  {
   "cell_type": "code",
   "execution_count": 15,
   "id": "f01657d8",
   "metadata": {},
   "outputs": [],
   "source": [
    "lst=split_num('8756')"
   ]
  },
  {
   "cell_type": "code",
   "execution_count": 16,
   "id": "6a08eedc",
   "metadata": {},
   "outputs": [
    {
     "data": {
      "text/plain": [
       "[8, 7, 5, 6]"
      ]
     },
     "execution_count": 16,
     "metadata": {},
     "output_type": "execute_result"
    }
   ],
   "source": [
    "lst"
   ]
  },
  {
   "cell_type": "code",
   "execution_count": 22,
   "id": "0405e72a",
   "metadata": {},
   "outputs": [
    {
     "name": "stdout",
     "output_type": "stream",
     "text": [
      "Enter three digit number : 765\n",
      "[675, 657, 567, 576, 756, 765]\n"
     ]
    }
   ],
   "source": [
    "combination()"
   ]
  },
  {
   "cell_type": "code",
   "execution_count": null,
   "id": "528c8b22",
   "metadata": {},
   "outputs": [],
   "source": []
  },
  {
   "cell_type": "code",
   "execution_count": null,
   "id": "4cca990d",
   "metadata": {},
   "outputs": [],
   "source": [
    "#other way to solve problem"
   ]
  },
  {
   "cell_type": "code",
   "execution_count": 11,
   "id": "29fe3b36",
   "metadata": {},
   "outputs": [],
   "source": [
    "def all_possible_comb():\n",
    "    comb=[]\n",
    "    d=input('Enter a three digit no: ')\n",
    "    for i in range(3):\n",
    "        for j in range(3):\n",
    "            for k in range(3):\n",
    "                if(i!=j and j!=k and i!=k):\n",
    "                    comb.append((d[i]+d[j]+d[k]))\n",
    "                    \n",
    "    return comb"
   ]
  },
  {
   "cell_type": "code",
   "execution_count": 12,
   "id": "d70d2b51",
   "metadata": {},
   "outputs": [
    {
     "name": "stdout",
     "output_type": "stream",
     "text": [
      "Enter a three digit no: 482\n"
     ]
    },
    {
     "data": {
      "text/plain": [
       "['482', '428', '842', '824', '248', '284']"
      ]
     },
     "execution_count": 12,
     "metadata": {},
     "output_type": "execute_result"
    }
   ],
   "source": [
    "all_possible_comb()"
   ]
  },
  {
   "cell_type": "code",
   "execution_count": 15,
   "id": "6ca94a1f",
   "metadata": {},
   "outputs": [],
   "source": [
    "#Q9. PP to print odd numbers within a given range"
   ]
  },
  {
   "cell_type": "code",
   "execution_count": 18,
   "id": "899c1f91",
   "metadata": {},
   "outputs": [],
   "source": [
    "p=list(range(20))"
   ]
  },
  {
   "cell_type": "code",
   "execution_count": 19,
   "id": "91904c2e",
   "metadata": {},
   "outputs": [
    {
     "data": {
      "text/plain": [
       "[0, 1, 2, 3, 4, 5, 6, 7, 8, 9, 10, 11, 12, 13, 14, 15, 16, 17, 18, 19]"
      ]
     },
     "execution_count": 19,
     "metadata": {},
     "output_type": "execute_result"
    }
   ],
   "source": [
    "p"
   ]
  },
  {
   "cell_type": "code",
   "execution_count": 25,
   "id": "719a9568",
   "metadata": {},
   "outputs": [
    {
     "data": {
      "text/plain": [
       "[1, 3, 5, 7, 9, 11, 13, 15, 17, 19]"
      ]
     },
     "execution_count": 25,
     "metadata": {},
     "output_type": "execute_result"
    }
   ],
   "source": [
    "list(filter(lambda x:x%2!=0, p))"
   ]
  },
  {
   "cell_type": "code",
   "execution_count": 26,
   "id": "b61501ce",
   "metadata": {},
   "outputs": [
    {
     "data": {
      "text/plain": [
       "[False,\n",
       " True,\n",
       " False,\n",
       " True,\n",
       " False,\n",
       " True,\n",
       " False,\n",
       " True,\n",
       " False,\n",
       " True,\n",
       " False,\n",
       " True,\n",
       " False,\n",
       " True,\n",
       " False,\n",
       " True,\n",
       " False,\n",
       " True,\n",
       " False,\n",
       " True]"
      ]
     },
     "execution_count": 26,
     "metadata": {},
     "output_type": "execute_result"
    }
   ],
   "source": [
    "list(map(lambda x:x%2!=0, p))"
   ]
  },
  {
   "cell_type": "code",
   "execution_count": null,
   "id": "b7efc1cc",
   "metadata": {},
   "outputs": [],
   "source": [
    "#Q10. pp to find the sum of digits in number"
   ]
  },
  {
   "cell_type": "code",
   "execution_count": 1,
   "id": "beab0ea4",
   "metadata": {},
   "outputs": [
    {
     "ename": "NameError",
     "evalue": "name 'digit' is not defined",
     "output_type": "error",
     "traceback": [
      "\u001b[1;31m---------------------------------------------------------------------------\u001b[0m",
      "\u001b[1;31mNameError\u001b[0m                                 Traceback (most recent call last)",
      "\u001b[1;32m<ipython-input-1-69715a11f30e>\u001b[0m in \u001b[0;36m<module>\u001b[1;34m\u001b[0m\n\u001b[1;32m----> 1\u001b[1;33m \u001b[0mint\u001b[0m\u001b[1;33m(\u001b[0m\u001b[0mmap\u001b[0m\u001b[1;33m(\u001b[0m\u001b[1;32mlambda\u001b[0m \u001b[0mx\u001b[0m\u001b[1;33m:\u001b[0m\u001b[1;33m+\u001b[0m\u001b[0mx\u001b[0m\u001b[1;33m,\u001b[0m\u001b[0mdigit\u001b[0m\u001b[1;33m)\u001b[0m\u001b[1;33m)\u001b[0m\u001b[1;33m\u001b[0m\u001b[1;33m\u001b[0m\u001b[0m\n\u001b[0m",
      "\u001b[1;31mNameError\u001b[0m: name 'digit' is not defined"
     ]
    }
   ],
   "source": [
    "int(map(lambda x:+x,digit))"
   ]
  },
  {
   "cell_type": "code",
   "execution_count": 6,
   "id": "9031f30e",
   "metadata": {},
   "outputs": [
    {
     "name": "stdout",
     "output_type": "stream",
     "text": [
      "Enter a number5418\n",
      "18\n"
     ]
    }
   ],
   "source": [
    "def sum_of_digit():                                     \n",
    "    num = input('Enter a number: ')\n",
    "    sum=0\n",
    "    for i in num:\n",
    "        sum+=int(i)\n",
    "    print(sum)\n",
    "sum_of_digit()"
   ]
  },
  {
   "cell_type": "code",
   "execution_count": 7,
   "id": "8ed22015",
   "metadata": {},
   "outputs": [],
   "source": [
    "s='76456'"
   ]
  },
  {
   "cell_type": "code",
   "execution_count": 8,
   "id": "a013c58e",
   "metadata": {},
   "outputs": [
    {
     "data": {
      "text/plain": [
       "'76456'"
      ]
     },
     "execution_count": 8,
     "metadata": {},
     "output_type": "execute_result"
    }
   ],
   "source": [
    "s.strip()"
   ]
  },
  {
   "cell_type": "code",
   "execution_count": 9,
   "id": "7786d3b6",
   "metadata": {},
   "outputs": [
    {
     "data": {
      "text/plain": [
       "['7', '6', '4', '5', '6']"
      ]
     },
     "execution_count": 9,
     "metadata": {},
     "output_type": "execute_result"
    }
   ],
   "source": [
    "list(s)"
   ]
  },
  {
   "cell_type": "code",
   "execution_count": 14,
   "id": "f2520fe7",
   "metadata": {},
   "outputs": [],
   "source": [
    "#sum of digit"
   ]
  },
  {
   "cell_type": "code",
   "execution_count": 17,
   "id": "5e9ae49c",
   "metadata": {},
   "outputs": [
    {
     "name": "stdout",
     "output_type": "stream",
     "text": [
      "Enter a number: 9128\n"
     ]
    },
    {
     "data": {
      "text/plain": [
       "20"
      ]
     },
     "execution_count": 17,
     "metadata": {},
     "output_type": "execute_result"
    }
   ],
   "source": [
    "num = input(\"Enter a number: \")\n",
    "sum([int(i) for i in num])"
   ]
  },
  {
   "cell_type": "code",
   "execution_count": 1,
   "id": "50b8f6d0",
   "metadata": {},
   "outputs": [
    {
     "name": "stdout",
     "output_type": "stream",
     "text": [
      "Enter a number: 9128\n"
     ]
    },
    {
     "ename": "TypeError",
     "evalue": "unsupported operand type(s) for +: 'int' and 'str'",
     "output_type": "error",
     "traceback": [
      "\u001b[1;31m---------------------------------------------------------------------------\u001b[0m",
      "\u001b[1;31mTypeError\u001b[0m                                 Traceback (most recent call last)",
      "\u001b[1;32m<ipython-input-1-c88445254ade>\u001b[0m in \u001b[0;36m<module>\u001b[1;34m\u001b[0m\n\u001b[0;32m      1\u001b[0m \u001b[0mnum\u001b[0m \u001b[1;33m=\u001b[0m \u001b[0minput\u001b[0m\u001b[1;33m(\u001b[0m\u001b[1;34m\"Enter a number: \"\u001b[0m\u001b[1;33m)\u001b[0m\u001b[1;33m\u001b[0m\u001b[1;33m\u001b[0m\u001b[0m\n\u001b[1;32m----> 2\u001b[1;33m \u001b[0msum\u001b[0m\u001b[1;33m(\u001b[0m\u001b[0mlist\u001b[0m\u001b[1;33m(\u001b[0m\u001b[0mnum\u001b[0m\u001b[1;33m)\u001b[0m\u001b[1;33m)\u001b[0m\u001b[1;33m\u001b[0m\u001b[1;33m\u001b[0m\u001b[0m\n\u001b[0m",
      "\u001b[1;31mTypeError\u001b[0m: unsupported operand type(s) for +: 'int' and 'str'"
     ]
    }
   ],
   "source": [
    "num = input(\"Enter a number: \")\n",
    "sum(list(num))"
   ]
  },
  {
   "cell_type": "code",
   "execution_count": null,
   "id": "c66eadf3",
   "metadata": {},
   "outputs": [],
   "source": [
    "#Q11. PP to find smallest divisor of integer"
   ]
  },
  {
   "cell_type": "code",
   "execution_count": 5,
   "id": "44017cca",
   "metadata": {},
   "outputs": [
    {
     "name": "stdout",
     "output_type": "stream",
     "text": [
      "enter a number54\n",
      "2\n"
     ]
    }
   ],
   "source": [
    "num = int(input(\"enter a number\"))\n",
    "for i in range(2,num+1):\n",
    "    if num%i==0:\n",
    "        print(i)\n",
    "        break\n",
    "    "
   ]
  },
  {
   "cell_type": "code",
   "execution_count": 9,
   "id": "cab1c03a",
   "metadata": {},
   "outputs": [
    {
     "name": "stdout",
     "output_type": "stream",
     "text": [
      "enter a number67\n",
      "1\n"
     ]
    }
   ],
   "source": [
    "#Find largest divisor of integer\n",
    "num = int(input(\"enter a number\"))\n",
    "for i in list(range(1,num))[::-1]:\n",
    "    if num%i==0:\n",
    "        print(i)\n",
    "        break\n"
   ]
  },
  {
   "cell_type": "code",
   "execution_count": null,
   "id": "c735d5c0",
   "metadata": {},
   "outputs": [],
   "source": []
  },
  {
   "cell_type": "code",
   "execution_count": null,
   "id": "2b967dab",
   "metadata": {},
   "outputs": [],
   "source": [
    "#Q12. PP to count the number of digits in num"
   ]
  },
  {
   "cell_type": "code",
   "execution_count": 19,
   "id": "3a84b014",
   "metadata": {},
   "outputs": [
    {
     "name": "stdout",
     "output_type": "stream",
     "text": [
      "Enter a number: 6749801\n"
     ]
    },
    {
     "data": {
      "text/plain": [
       "7"
      ]
     },
     "execution_count": 19,
     "metadata": {},
     "output_type": "execute_result"
    }
   ],
   "source": [
    "num = int(input('Enter a number: '))\n",
    "len(str(num))"
   ]
  },
  {
   "cell_type": "code",
   "execution_count": null,
   "id": "1c00eb91",
   "metadata": {},
   "outputs": [],
   "source": [
    "#convert string to list of character using\n",
    "1. list comprehension      ------[i for i in string]\n",
    "2. type casting ---------- list(string)\n",
    "3. map -------             list(map(lambda x:x, string))"
   ]
  },
  {
   "cell_type": "code",
   "execution_count": null,
   "id": "c6613249",
   "metadata": {},
   "outputs": [],
   "source": [
    "#Q13. PP to check if the number is palindrome"
   ]
  },
  {
   "cell_type": "code",
   "execution_count": null,
   "id": "510c6fa1",
   "metadata": {},
   "outputs": [],
   "source": []
  },
  {
   "cell_type": "code",
   "execution_count": 18,
   "id": "ff845caa",
   "metadata": {},
   "outputs": [
    {
     "name": "stdout",
     "output_type": "stream",
     "text": [
      "Enter a number:756\n",
      "756 is not palindrome no\n"
     ]
    }
   ],
   "source": [
    "num = input('Enter a number:')\n",
    "if num==num[::-1]:\n",
    "    print(f'{num} is palindrome no')\n",
    "else:\n",
    "    print(f'{num} is not palindrome no')"
   ]
  },
  {
   "cell_type": "code",
   "execution_count": 23,
   "id": "6b3c777c",
   "metadata": {},
   "outputs": [
    {
     "name": "stdout",
     "output_type": "stream",
     "text": [
      "Enter a number:7654567\n",
      "7654567 is palindrome number?  True\n"
     ]
    }
   ],
   "source": [
    "#Other way\n",
    "num = input('Enter a number:')\n",
    "print(f\"{num} is palindrome number? \",num==num[::-1])"
   ]
  },
  {
   "cell_type": "code",
   "execution_count": 24,
   "id": "a05aaa60",
   "metadata": {},
   "outputs": [],
   "source": [
    "#Q14. PP to print all integers that aren't divisible by two or threee and lies between 1 to 5"
   ]
  },
  {
   "cell_type": "code",
   "execution_count": 25,
   "id": "baf275c3",
   "metadata": {},
   "outputs": [
    {
     "name": "stdout",
     "output_type": "stream",
     "text": [
      "1\n"
     ]
    }
   ],
   "source": [
    "for i in range(1,5):\n",
    "    if i%2!=0 and i%3!=0:\n",
    "        print(i)"
   ]
  },
  {
   "cell_type": "code",
   "execution_count": 29,
   "id": "680b1dc0",
   "metadata": {},
   "outputs": [],
   "source": [
    "py_list=list(range(30))"
   ]
  },
  {
   "cell_type": "code",
   "execution_count": 30,
   "id": "ebc3ca4a",
   "metadata": {},
   "outputs": [
    {
     "data": {
      "text/plain": [
       "[0,\n",
       " 1,\n",
       " 2,\n",
       " 3,\n",
       " 4,\n",
       " 5,\n",
       " 6,\n",
       " 7,\n",
       " 8,\n",
       " 9,\n",
       " 10,\n",
       " 11,\n",
       " 12,\n",
       " 13,\n",
       " 14,\n",
       " 15,\n",
       " 16,\n",
       " 17,\n",
       " 18,\n",
       " 19,\n",
       " 20,\n",
       " 21,\n",
       " 22,\n",
       " 23,\n",
       " 24,\n",
       " 25,\n",
       " 26,\n",
       " 27,\n",
       " 28,\n",
       " 29]"
      ]
     },
     "execution_count": 30,
     "metadata": {},
     "output_type": "execute_result"
    }
   ],
   "source": [
    "py_list"
   ]
  },
  {
   "cell_type": "code",
   "execution_count": 31,
   "id": "fd564071",
   "metadata": {},
   "outputs": [
    {
     "data": {
      "text/plain": [
       "[1, 5, 7, 11, 13, 17, 19, 23, 25, 29]"
      ]
     },
     "execution_count": 31,
     "metadata": {},
     "output_type": "execute_result"
    }
   ],
   "source": [
    "list(filter(lambda x:x%2!=0 and x%3!=0, py_list))"
   ]
  },
  {
   "cell_type": "code",
   "execution_count": 32,
   "id": "afeccaa7",
   "metadata": {},
   "outputs": [],
   "source": [
    "#Q15. PP to read N numbers and print the series 1+2+.....+N"
   ]
  },
  {
   "cell_type": "code",
   "execution_count": 33,
   "id": "b285ef6d",
   "metadata": {},
   "outputs": [],
   "source": [
    "py_list=list(range(10))"
   ]
  },
  {
   "cell_type": "code",
   "execution_count": 34,
   "id": "faf460dd",
   "metadata": {},
   "outputs": [
    {
     "data": {
      "text/plain": [
       "[0, 1, 2, 3, 4, 5, 6, 7, 8, 9]"
      ]
     },
     "execution_count": 34,
     "metadata": {},
     "output_type": "execute_result"
    }
   ],
   "source": [
    "py_list"
   ]
  },
  {
   "cell_type": "code",
   "execution_count": 38,
   "id": "76bc947d",
   "metadata": {},
   "outputs": [
    {
     "name": "stdout",
     "output_type": "stream",
     "text": [
      "0+1+2+3+4+5+6+7+8+9+"
     ]
    },
    {
     "data": {
      "text/plain": [
       "[None, None, None, None, None, None, None, None, None, None]"
      ]
     },
     "execution_count": 38,
     "metadata": {},
     "output_type": "execute_result"
    }
   ],
   "source": [
    "list(map(lambda x:print(x,end=\"+\"),py_list))"
   ]
  },
  {
   "cell_type": "code",
   "execution_count": 6,
   "id": "258b5034",
   "metadata": {},
   "outputs": [
    {
     "name": "stdout",
     "output_type": "stream",
     "text": [
      "Enter a number: 10\n",
      "1+2+3+4+5+6+7+8+9+10"
     ]
    }
   ],
   "source": [
    "num = int(input('Enter a number: '))\n",
    "for i in range(1,num+1):\n",
    "    print(i,end='')\n",
    "    if i<num:\n",
    "        print('+',end='')"
   ]
  },
  {
   "cell_type": "code",
   "execution_count": 7,
   "id": "9d6dfdcf",
   "metadata": {},
   "outputs": [
    {
     "name": "stdout",
     "output_type": "stream",
     "text": [
      "Enter a number: 10\n",
      "1+2+3+4+5+6+7+8+9+10= 55\n"
     ]
    }
   ],
   "source": [
    "num = int(input('Enter a number: '))\n",
    "num_list =[]\n",
    "for i in range(1,num+1):\n",
    "    num_list.append(i)\n",
    "    print(i,end='')\n",
    "    if i<num:\n",
    "        print('+',end='')\n",
    "print('=',sum(num_list))"
   ]
  },
  {
   "cell_type": "code",
   "execution_count": null,
   "id": "422555ee",
   "metadata": {},
   "outputs": [],
   "source": [
    "#Q16. PP to print identity matrix"
   ]
  },
  {
   "cell_type": "code",
   "execution_count": 17,
   "id": "1360b8e4",
   "metadata": {},
   "outputs": [
    {
     "name": "stdout",
     "output_type": "stream",
     "text": [
      "Enter size of matrix: 4\n",
      "print matrix in row\n",
      "[1, 0, 0, 0]\n",
      "[0, 1, 0, 0]\n",
      "[0, 0, 1, 0]\n",
      "[0, 0, 0, 1]\n",
      "Matrix in list form\n",
      "[[], [], [], []]\n"
     ]
    }
   ],
   "source": [
    "#matrix in list using clear() method\n",
    "size = int(input('Enter size of matrix: '))\n",
    "matrix = []\n",
    "row = []\n",
    "print('print matrix in row')\n",
    "for i in range(size):\n",
    "    \n",
    "    for j in range(size):\n",
    "        if i==j:\n",
    "            row.append(1)\n",
    "        else:\n",
    "            row.append(0)\n",
    "    print(row)\n",
    "    matrix.insert(i,row)\n",
    "    row.clear()     #using clear() it remove element of row list as well as matrix list, why?\n",
    "print('Matrix in list form')\n",
    "print(matrix)"
   ]
  },
  {
   "cell_type": "code",
   "execution_count": 16,
   "id": "323bc170",
   "metadata": {},
   "outputs": [
    {
     "name": "stdout",
     "output_type": "stream",
     "text": [
      "Enter size of matrix: 4\n",
      "[1, 0, 0, 0]\n",
      "[0, 1, 0, 0]\n",
      "[0, 0, 1, 0]\n",
      "[0, 0, 0, 1]\n",
      "[[1, 0, 0, 0], [0, 1, 0, 0], [0, 0, 1, 0], [0, 0, 0, 1]]\n"
     ]
    }
   ],
   "source": [
    "#matrix in list using reassign row=[] to remove the element in list\n",
    "size = int(input('Enter size of matrix: '))\n",
    "matrix = []\n",
    "row = []\n",
    "for i in range(size):\n",
    "    for j in range(size):\n",
    "        if i==j:\n",
    "            row.append(1)\n",
    "        else:\n",
    "            row.append(0)\n",
    "    print(row)\n",
    "    matrix.insert(i,row)\n",
    "    row = []    \n",
    "print(matrix)"
   ]
  },
  {
   "cell_type": "code",
   "execution_count": null,
   "id": "b97a278b",
   "metadata": {},
   "outputs": [],
   "source": [
    "#Q17. PP to print inverted star Pattern"
   ]
  },
  {
   "cell_type": "code",
   "execution_count": null,
   "id": "41e943f6",
   "metadata": {},
   "outputs": [],
   "source": [
    "n=3\n",
    "***\n",
    " **\n",
    "  *\n",
    "n=5\n",
    "*****\n",
    " ****\n",
    "  ***\n",
    "   **\n",
    "    *"
   ]
  },
  {
   "cell_type": "code",
   "execution_count": 19,
   "id": "1dd6180e",
   "metadata": {},
   "outputs": [
    {
     "name": "stdout",
     "output_type": "stream",
     "text": [
      "Enter number: 6\n",
      "*\n",
      "**\n",
      "***\n",
      "****\n",
      "*****\n",
      "******\n"
     ]
    }
   ],
   "source": [
    "num = int(input('Enter number: '))\n",
    "for i in range(num):\n",
    "    for j in range(i+1):\n",
    "        print('*',end='')\n",
    "    print()"
   ]
  },
  {
   "cell_type": "code",
   "execution_count": 37,
   "id": "a85835af",
   "metadata": {},
   "outputs": [
    {
     "name": "stdout",
     "output_type": "stream",
     "text": [
      "Enter number of row: 4\n",
      "*\n",
      "**\n",
      "***\n",
      "****\n"
     ]
    }
   ],
   "source": [
    "#efficient way\n",
    "num = int(input('Enter number of row: '))\n",
    "for i in range(1,num+1):\n",
    "    print(i*'*')"
   ]
  },
  {
   "cell_type": "code",
   "execution_count": 27,
   "id": "4b2bb9c6",
   "metadata": {},
   "outputs": [
    {
     "name": "stdout",
     "output_type": "stream",
     "text": [
      "Enter number: 6\n",
      "******\n",
      " *****\n",
      "  ****\n",
      "   ***\n",
      "    **\n",
      "     *\n"
     ]
    }
   ],
   "source": [
    "num = int(input('Enter number: '))\n",
    "for i in range(num):\n",
    "    for j in range(num):\n",
    "        if(i<=j):\n",
    "            print('*',end='')\n",
    "        else:\n",
    "            print(' ',end='')\n",
    "    print()"
   ]
  },
  {
   "cell_type": "code",
   "execution_count": 28,
   "id": "cc44fe54",
   "metadata": {},
   "outputs": [],
   "source": [
    "#efficient way"
   ]
  },
  {
   "cell_type": "code",
   "execution_count": 34,
   "id": "c6adb083",
   "metadata": {},
   "outputs": [
    {
     "name": "stdout",
     "output_type": "stream",
     "text": [
      "Enter number: 5\n",
      "*****\n",
      " ****\n",
      "  ***\n",
      "   **\n",
      "    *\n"
     ]
    }
   ],
   "source": [
    "num = int(input('Enter number: '))\n",
    "for i in range(num,0,-1):\n",
    "    print((num-i)*' '+i*'*')"
   ]
  },
  {
   "cell_type": "code",
   "execution_count": 35,
   "id": "ac45901a",
   "metadata": {},
   "outputs": [
    {
     "data": {
      "text/plain": [
       "[6, 5, 4, 3, 2, 1]"
      ]
     },
     "execution_count": 35,
     "metadata": {},
     "output_type": "execute_result"
    }
   ],
   "source": [
    "list(range(6,0,-1))"
   ]
  },
  {
   "cell_type": "code",
   "execution_count": null,
   "id": "d98da15e",
   "metadata": {},
   "outputs": [],
   "source": [
    "#Q18. PP to find the largest number in the list"
   ]
  },
  {
   "cell_type": "code",
   "execution_count": 38,
   "id": "874db0ec",
   "metadata": {},
   "outputs": [],
   "source": [
    "py_list=[8,4,7,1,9,3,2,6,5]"
   ]
  },
  {
   "cell_type": "code",
   "execution_count": 39,
   "id": "00e1d713",
   "metadata": {},
   "outputs": [
    {
     "data": {
      "text/plain": [
       "[8, 4, 7, 1, 9, 3, 2, 6, 5]"
      ]
     },
     "execution_count": 39,
     "metadata": {},
     "output_type": "execute_result"
    }
   ],
   "source": [
    "py_list"
   ]
  },
  {
   "cell_type": "code",
   "execution_count": 40,
   "id": "a9a59fef",
   "metadata": {},
   "outputs": [
    {
     "data": {
      "text/plain": [
       "9"
      ]
     },
     "execution_count": 40,
     "metadata": {},
     "output_type": "execute_result"
    }
   ],
   "source": [
    "max(py_list)"
   ]
  },
  {
   "cell_type": "code",
   "execution_count": 41,
   "id": "cc703851",
   "metadata": {},
   "outputs": [
    {
     "data": {
      "text/plain": [
       "1"
      ]
     },
     "execution_count": 41,
     "metadata": {},
     "output_type": "execute_result"
    }
   ],
   "source": [
    "min(py_list)"
   ]
  },
  {
   "cell_type": "code",
   "execution_count": null,
   "id": "a577bbe7",
   "metadata": {},
   "outputs": [],
   "source": [
    "#Q19. PP to take the list and print the second largest number in the list"
   ]
  },
  {
   "cell_type": "code",
   "execution_count": 42,
   "id": "fc03f712",
   "metadata": {},
   "outputs": [
    {
     "data": {
      "text/plain": [
       "[8, 4, 7, 1, 9, 3, 2, 6, 5]"
      ]
     },
     "execution_count": 42,
     "metadata": {},
     "output_type": "execute_result"
    }
   ],
   "source": [
    "py_list"
   ]
  },
  {
   "cell_type": "code",
   "execution_count": 43,
   "id": "4145d1e6",
   "metadata": {},
   "outputs": [],
   "source": [
    "first_max=max(py_list)"
   ]
  },
  {
   "cell_type": "code",
   "execution_count": 44,
   "id": "29e1a516",
   "metadata": {},
   "outputs": [
    {
     "name": "stdout",
     "output_type": "stream",
     "text": [
      "Second largest number: 8\n"
     ]
    }
   ],
   "source": [
    "sec_max=0\n",
    "for i in py_list:\n",
    "    if i<first_max and sec_max<i:\n",
    "        sec_max=i\n",
    "print(f'Second largest number: {sec_max}')"
   ]
  },
  {
   "cell_type": "code",
   "execution_count": 45,
   "id": "a2a7942d",
   "metadata": {},
   "outputs": [],
   "source": []
  },
  {
   "cell_type": "code",
   "execution_count": null,
   "id": "8ba5c405",
   "metadata": {},
   "outputs": [],
   "source": [
    "Type of copy\n",
    "1. shallow copy ---- copy with reference    (using assignment operator = )\n",
    "                     modification in one list reflect in other list\n",
    "\n",
    "2. deep copy ------- copy without reference    (using copy() method)\n",
    "                      modification in one list do not reflect in other list"
   ]
  },
  {
   "cell_type": "code",
   "execution_count": 46,
   "id": "b9ffb49d",
   "metadata": {},
   "outputs": [
    {
     "data": {
      "text/plain": [
       "[8, 4, 7, 1, 9, 3, 2, 6, 5]"
      ]
     },
     "execution_count": 46,
     "metadata": {},
     "output_type": "execute_result"
    }
   ],
   "source": [
    "py_list"
   ]
  },
  {
   "cell_type": "code",
   "execution_count": 47,
   "id": "2b30600c",
   "metadata": {},
   "outputs": [],
   "source": [
    "list_copy=py_list.copy()         #deep copy"
   ]
  },
  {
   "cell_type": "code",
   "execution_count": 48,
   "id": "4f7f1343",
   "metadata": {},
   "outputs": [
    {
     "data": {
      "text/plain": [
       "[8, 4, 7, 1, 9, 3, 2, 6, 5]"
      ]
     },
     "execution_count": 48,
     "metadata": {},
     "output_type": "execute_result"
    }
   ],
   "source": [
    "list_copy"
   ]
  },
  {
   "cell_type": "code",
   "execution_count": 49,
   "id": "63d7b8ab",
   "metadata": {},
   "outputs": [],
   "source": [
    "list_copy.append(10)"
   ]
  },
  {
   "cell_type": "code",
   "execution_count": 50,
   "id": "6b2879b1",
   "metadata": {},
   "outputs": [
    {
     "data": {
      "text/plain": [
       "[8, 4, 7, 1, 9, 3, 2, 6, 5, 10]"
      ]
     },
     "execution_count": 50,
     "metadata": {},
     "output_type": "execute_result"
    }
   ],
   "source": [
    "list_copy"
   ]
  },
  {
   "cell_type": "code",
   "execution_count": 51,
   "id": "7710ca56",
   "metadata": {},
   "outputs": [
    {
     "data": {
      "text/plain": [
       "[8, 4, 7, 1, 9, 3, 2, 6, 5]"
      ]
     },
     "execution_count": 51,
     "metadata": {},
     "output_type": "execute_result"
    }
   ],
   "source": [
    "py_list"
   ]
  },
  {
   "cell_type": "code",
   "execution_count": 52,
   "id": "e057eeb3",
   "metadata": {},
   "outputs": [],
   "source": [
    "py_list.append(11)"
   ]
  },
  {
   "cell_type": "code",
   "execution_count": 53,
   "id": "5cd5e8fd",
   "metadata": {},
   "outputs": [
    {
     "data": {
      "text/plain": [
       "[8, 4, 7, 1, 9, 3, 2, 6, 5, 11]"
      ]
     },
     "execution_count": 53,
     "metadata": {},
     "output_type": "execute_result"
    }
   ],
   "source": [
    "py_list"
   ]
  },
  {
   "cell_type": "code",
   "execution_count": 54,
   "id": "f2e26bb1",
   "metadata": {},
   "outputs": [
    {
     "data": {
      "text/plain": [
       "[8, 4, 7, 1, 9, 3, 2, 6, 5, 10]"
      ]
     },
     "execution_count": 54,
     "metadata": {},
     "output_type": "execute_result"
    }
   ],
   "source": [
    "list_copy"
   ]
  },
  {
   "cell_type": "code",
   "execution_count": 55,
   "id": "9163c5a5",
   "metadata": {},
   "outputs": [],
   "source": [
    "#shallow copy"
   ]
  },
  {
   "cell_type": "code",
   "execution_count": 56,
   "id": "9d9687af",
   "metadata": {},
   "outputs": [],
   "source": [
    "list1 = [6,3,9,5,1]"
   ]
  },
  {
   "cell_type": "code",
   "execution_count": 57,
   "id": "3163555a",
   "metadata": {},
   "outputs": [
    {
     "data": {
      "text/plain": [
       "[6, 3, 9, 5, 1]"
      ]
     },
     "execution_count": 57,
     "metadata": {},
     "output_type": "execute_result"
    }
   ],
   "source": [
    "list1"
   ]
  },
  {
   "cell_type": "code",
   "execution_count": 58,
   "id": "c90f25f6",
   "metadata": {},
   "outputs": [],
   "source": [
    "list2 = list1"
   ]
  },
  {
   "cell_type": "code",
   "execution_count": 59,
   "id": "8e8478a7",
   "metadata": {},
   "outputs": [
    {
     "data": {
      "text/plain": [
       "[6, 3, 9, 5, 1]"
      ]
     },
     "execution_count": 59,
     "metadata": {},
     "output_type": "execute_result"
    }
   ],
   "source": [
    "list2"
   ]
  },
  {
   "cell_type": "code",
   "execution_count": 60,
   "id": "11b7884a",
   "metadata": {},
   "outputs": [],
   "source": [
    "list1.append(10)"
   ]
  },
  {
   "cell_type": "code",
   "execution_count": 61,
   "id": "156eb818",
   "metadata": {},
   "outputs": [
    {
     "data": {
      "text/plain": [
       "[6, 3, 9, 5, 1, 10]"
      ]
     },
     "execution_count": 61,
     "metadata": {},
     "output_type": "execute_result"
    }
   ],
   "source": [
    "list1"
   ]
  },
  {
   "cell_type": "code",
   "execution_count": 62,
   "id": "80405845",
   "metadata": {},
   "outputs": [
    {
     "data": {
      "text/plain": [
       "[6, 3, 9, 5, 1, 10]"
      ]
     },
     "execution_count": 62,
     "metadata": {},
     "output_type": "execute_result"
    }
   ],
   "source": [
    "list2"
   ]
  },
  {
   "cell_type": "code",
   "execution_count": 63,
   "id": "7720794a",
   "metadata": {},
   "outputs": [],
   "source": [
    "list2.append(21)"
   ]
  },
  {
   "cell_type": "code",
   "execution_count": 64,
   "id": "dc98e332",
   "metadata": {},
   "outputs": [
    {
     "data": {
      "text/plain": [
       "[6, 3, 9, 5, 1, 10, 21]"
      ]
     },
     "execution_count": 64,
     "metadata": {},
     "output_type": "execute_result"
    }
   ],
   "source": [
    "list2"
   ]
  },
  {
   "cell_type": "code",
   "execution_count": 65,
   "id": "e49ac964",
   "metadata": {},
   "outputs": [
    {
     "data": {
      "text/plain": [
       "[6, 3, 9, 5, 1, 10, 21]"
      ]
     },
     "execution_count": 65,
     "metadata": {},
     "output_type": "execute_result"
    }
   ],
   "source": [
    "list1"
   ]
  },
  {
   "cell_type": "code",
   "execution_count": null,
   "id": "23d3663c",
   "metadata": {},
   "outputs": [],
   "source": [
    "#print the second largest number in the list using sort()"
   ]
  },
  {
   "cell_type": "code",
   "execution_count": 1,
   "id": "c67793b3",
   "metadata": {},
   "outputs": [],
   "source": [
    "list1=[8,4,3,4,33,25,74,103]"
   ]
  },
  {
   "cell_type": "code",
   "execution_count": 2,
   "id": "d5bb3c7d",
   "metadata": {},
   "outputs": [],
   "source": [
    "list2 =list1.copy()"
   ]
  },
  {
   "cell_type": "code",
   "execution_count": 3,
   "id": "e3d1411c",
   "metadata": {},
   "outputs": [
    {
     "data": {
      "text/plain": [
       "[8, 4, 3, 4, 33, 25, 74, 103]"
      ]
     },
     "execution_count": 3,
     "metadata": {},
     "output_type": "execute_result"
    }
   ],
   "source": [
    "list2"
   ]
  },
  {
   "cell_type": "code",
   "execution_count": 4,
   "id": "c2161025",
   "metadata": {},
   "outputs": [],
   "source": [
    "list2.sort()"
   ]
  },
  {
   "cell_type": "code",
   "execution_count": 5,
   "id": "b39bdce2",
   "metadata": {},
   "outputs": [
    {
     "data": {
      "text/plain": [
       "[8, 4, 3, 4, 33, 25, 74, 103]"
      ]
     },
     "execution_count": 5,
     "metadata": {},
     "output_type": "execute_result"
    }
   ],
   "source": [
    "list1"
   ]
  },
  {
   "cell_type": "code",
   "execution_count": 6,
   "id": "090f7a97",
   "metadata": {},
   "outputs": [
    {
     "data": {
      "text/plain": [
       "[3, 4, 4, 8, 25, 33, 74, 103]"
      ]
     },
     "execution_count": 6,
     "metadata": {},
     "output_type": "execute_result"
    }
   ],
   "source": [
    "list2"
   ]
  },
  {
   "cell_type": "code",
   "execution_count": 8,
   "id": "84a4113d",
   "metadata": {},
   "outputs": [
    {
     "data": {
      "text/plain": [
       "74"
      ]
     },
     "execution_count": 8,
     "metadata": {},
     "output_type": "execute_result"
    }
   ],
   "source": [
    "list2[-2]     #second largest number"
   ]
  },
  {
   "cell_type": "code",
   "execution_count": 9,
   "id": "c6fb054b",
   "metadata": {},
   "outputs": [],
   "source": [
    "#Q20. PP to merge two lists and to sort it"
   ]
  },
  {
   "cell_type": "code",
   "execution_count": 10,
   "id": "74835df2",
   "metadata": {},
   "outputs": [],
   "source": [
    "list1=[7,3,1,8,5,3]"
   ]
  },
  {
   "cell_type": "code",
   "execution_count": 11,
   "id": "c18daf3f",
   "metadata": {},
   "outputs": [],
   "source": [
    "list2=[9,11,2,10,4]"
   ]
  },
  {
   "cell_type": "code",
   "execution_count": 16,
   "id": "8197aead",
   "metadata": {},
   "outputs": [],
   "source": [
    "sort_list=list1+list2"
   ]
  },
  {
   "cell_type": "code",
   "execution_count": 17,
   "id": "ed06d2b2",
   "metadata": {},
   "outputs": [
    {
     "data": {
      "text/plain": [
       "[7, 3, 1, 8, 5, 3, 9, 11, 2, 10, 4]"
      ]
     },
     "execution_count": 17,
     "metadata": {},
     "output_type": "execute_result"
    }
   ],
   "source": [
    "sort_list"
   ]
  },
  {
   "cell_type": "code",
   "execution_count": 18,
   "id": "9c707275",
   "metadata": {},
   "outputs": [],
   "source": [
    "sort_list.sort()"
   ]
  },
  {
   "cell_type": "code",
   "execution_count": 19,
   "id": "d883a226",
   "metadata": {},
   "outputs": [
    {
     "data": {
      "text/plain": [
       "[1, 2, 3, 3, 4, 5, 7, 8, 9, 10, 11]"
      ]
     },
     "execution_count": 19,
     "metadata": {},
     "output_type": "execute_result"
    }
   ],
   "source": [
    "sort_list"
   ]
  },
  {
   "cell_type": "code",
   "execution_count": 1,
   "id": "9255ab59",
   "metadata": {},
   "outputs": [],
   "source": [
    "#Q21. PP to find the union of two lists"
   ]
  },
  {
   "cell_type": "code",
   "execution_count": 2,
   "id": "e03e17f7",
   "metadata": {},
   "outputs": [],
   "source": [
    "l1= [84,92,100,29,63]"
   ]
  },
  {
   "cell_type": "code",
   "execution_count": 3,
   "id": "7992175d",
   "metadata": {},
   "outputs": [],
   "source": [
    "l2=[100,29,83,43,28,46,29]"
   ]
  },
  {
   "cell_type": "code",
   "execution_count": 5,
   "id": "dcf237be",
   "metadata": {},
   "outputs": [
    {
     "data": {
      "text/plain": [
       "{28, 29, 43, 46, 63, 83, 84, 92, 100}"
      ]
     },
     "execution_count": 5,
     "metadata": {},
     "output_type": "execute_result"
    }
   ],
   "source": [
    "set(l1).union(set(l2))"
   ]
  },
  {
   "cell_type": "code",
   "execution_count": 6,
   "id": "305a70a9",
   "metadata": {},
   "outputs": [],
   "source": [
    "#Q22. PP to find the count of numbers and display in dictionary"
   ]
  },
  {
   "cell_type": "code",
   "execution_count": 19,
   "id": "ccb7173d",
   "metadata": {},
   "outputs": [
    {
     "name": "stdout",
     "output_type": "stream",
     "text": [
      "{False: 3, 1: 10, 7: 4, 9: 2, 10: 1, 20: 1}\n"
     ]
    }
   ],
   "source": [
    "list1 = [False,0,1,1,1,1,1,1,1,1,1,True,10,20,0,7,7,9,7,7,9]\n",
    "Unq_ele = list(set(list1))\n",
    "dict_count={}\n",
    "for i in Unq_ele:\n",
    "    dict_count[i]=list1.count(i)\n",
    "    \n",
    "print(dict_count)"
   ]
  },
  {
   "cell_type": "code",
   "execution_count": null,
   "id": "1de878ea",
   "metadata": {},
   "outputs": [],
   "source": [
    "#Q23. PP to swap the first and last value of the list"
   ]
  },
  {
   "cell_type": "code",
   "execution_count": 14,
   "id": "8920b31e",
   "metadata": {},
   "outputs": [],
   "source": [
    "list2= [3,2,9,5,1,8,4,6]"
   ]
  },
  {
   "cell_type": "code",
   "execution_count": 15,
   "id": "fc9ab69f",
   "metadata": {},
   "outputs": [],
   "source": [
    "list2[0],list2[-1] = list2[-1],list2[0]"
   ]
  },
  {
   "cell_type": "code",
   "execution_count": 16,
   "id": "3e7c73fe",
   "metadata": {},
   "outputs": [
    {
     "data": {
      "text/plain": [
       "[6, 2, 9, 5, 1, 8, 4, 3]"
      ]
     },
     "execution_count": 16,
     "metadata": {},
     "output_type": "execute_result"
    }
   ],
   "source": [
    "list2"
   ]
  },
  {
   "cell_type": "code",
   "execution_count": 8,
   "id": "de416676",
   "metadata": {},
   "outputs": [],
   "source": [
    "#Q24. PP to remove the duplicate items from the list"
   ]
  },
  {
   "cell_type": "code",
   "execution_count": 9,
   "id": "65e61220",
   "metadata": {},
   "outputs": [],
   "source": [
    "list1=[100,92,81,48,21,100,22,21,73,99,92,100]"
   ]
  },
  {
   "cell_type": "code",
   "execution_count": 10,
   "id": "6805c9b2",
   "metadata": {},
   "outputs": [
    {
     "data": {
      "text/plain": [
       "[99, 100, 73, 48, 81, 21, 22, 92]"
      ]
     },
     "execution_count": 10,
     "metadata": {},
     "output_type": "execute_result"
    }
   ],
   "source": [
    "list(set(list1))"
   ]
  },
  {
   "cell_type": "code",
   "execution_count": null,
   "id": "9aac5f68",
   "metadata": {},
   "outputs": [],
   "source": []
  }
 ],
 "metadata": {
  "kernelspec": {
   "display_name": "Python 3",
   "language": "python",
   "name": "python3"
  },
  "language_info": {
   "codemirror_mode": {
    "name": "ipython",
    "version": 3
   },
   "file_extension": ".py",
   "mimetype": "text/x-python",
   "name": "python",
   "nbconvert_exporter": "python",
   "pygments_lexer": "ipython3",
   "version": "3.8.8"
  }
 },
 "nbformat": 4,
 "nbformat_minor": 5
}
